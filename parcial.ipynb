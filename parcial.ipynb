{
 "metadata": {
  "language_info": {
   "codemirror_mode": {
    "name": "ipython",
    "version": 3
   },
   "file_extension": ".py",
   "mimetype": "text/x-python",
   "name": "python",
   "nbconvert_exporter": "python",
   "pygments_lexer": "ipython3",
   "version": "3.8.5-final"
  },
  "orig_nbformat": 2,
  "kernelspec": {
   "name": "Python 3.8.5 64-bit ('base': conda)",
   "display_name": "Python 3.8.5 64-bit ('base': conda)",
   "metadata": {
    "interpreter": {
     "hash": "f40d583d290512839acb4b60efce1f9e06d2fd2902185a87de4f922b2aa54c00"
    }
   }
  }
 },
 "nbformat": 4,
 "nbformat_minor": 2,
 "cells": [
  {
   "cell_type": "code",
   "execution_count": null,
   "metadata": {},
   "outputs": [],
   "source": [
    "#integrantes: GABRIEL GOMEZ, EDUARDO DE LA HOZ, STEPHANIA DE LA HOZ"
   ]
  },
  {
   "cell_type": "code",
   "execution_count": null,
   "metadata": {},
   "outputs": [],
   "source": [
    "import numpy as np\n",
    "import pandas as pd\n",
    "import matplotlib.pyplot as plt\n",
    "import scipy.linalg as la\n",
    "import sys\n",
    "import mpl_toolkits.mplot3d as mpl\n",
    "from numpy import genfromtxt\n",
    "from collections import Counter\n",
    "from sklearn.preprocessing import StandardScaler\n"
   ]
  },
  {
   "cell_type": "code",
   "execution_count": null,
   "metadata": {},
   "outputs": [],
   "source": [
    "def cleaner(df,k):\n",
    "    return df[(abs(df[0]-np.mean(df[0])) <= k*np.std(df[0])) & (abs(df[1]-np.mean(df[1])) <= k*np.std(df[1])) & (abs(df[2]-np.mean(df[2])) <= k*np.std(df[2])) & (abs(df[3]-np.mean(df[3])) <= k*np.std(df[3]))]"
   ]
  },
  {
   "cell_type": "code",
   "execution_count": null,
   "metadata": {},
   "outputs": [],
   "source": [
    "df=pd.read_table('irisdata.txt',skiprows=9,header=None)\n",
    "dfClean=df\n",
    "cat=df.iloc[:,4].values\n",
    "df=df.drop(columns=4)\n",
    "rawdata=np.array(df)\n",
    "covRawData = np.cov(rawdata.T)\n",
    "resultRaw = la.eig(covRawData)\n",
    "eugenVector=resultRaw[1]\n",
    "eugenValors=resultRaw[0].real"
   ]
  },
  {
   "cell_type": "code",
   "execution_count": null,
   "metadata": {},
   "outputs": [],
   "source": [
    "covRawData"
   ]
  },
  {
   "cell_type": "code",
   "execution_count": null,
   "metadata": {},
   "outputs": [],
   "source": [
    "eugenValors"
   ]
  },
  {
   "cell_type": "code",
   "execution_count": null,
   "metadata": {},
   "outputs": [],
   "source": [
    "eugenVector"
   ]
  },
  {
   "cell_type": "code",
   "execution_count": null,
   "metadata": {},
   "outputs": [],
   "source": [
    "sumEugen=np.sum(eugenValors)\n",
    "porEugen=eugenValors/sumEugen\n",
    "porEugen=porEugen*100"
   ]
  },
  {
   "cell_type": "code",
   "execution_count": null,
   "metadata": {},
   "outputs": [],
   "source": [
    "x=np.arange(4)\n",
    "fig=plt.figure()\n",
    "ax=fig.add_axes([0,0,1,1])\n",
    "lang=['PC1','PC2','PC3','PC4']\n",
    "ax.bar(lang,porEugen)\n",
    "plt.show()"
   ]
  },
  {
   "cell_type": "code",
   "execution_count": null,
   "metadata": {},
   "outputs": [],
   "source": [
    "eugenPares=[(np.abs(eugenValors[i]),eugenVector[:,i])for i in range(len(eugenValors))]\n",
    "\n",
    "zerros=np.zeros((4,1))\n",
    "matrix1D=np.hstack((eugenPares[0][1].reshape(4,1),zerros.reshape(4,1)))\n",
    "matrix2D=np.hstack((eugenPares[0][1].reshape(4,1),eugenPares[1][1].reshape(4,1)))\n",
    "matrix3D=np.hstack((eugenPares[0][1].reshape(4,1),eugenPares[1][1].reshape(4,1),eugenPares[2][1].reshape(4,1)))"
   ]
  },
  {
   "cell_type": "code",
   "execution_count": null,
   "metadata": {},
   "outputs": [],
   "source": [
    "z=rawdata.dot(matrix3D)\n",
    "lab=(0,1,2)\n",
    "color=('green','red','brown')\n",
    "with plt.style.context('seaborn-whitegrid'):\n",
    "    fig=plt.figure()\n",
    "    ax=fig.add_subplot(111,projection='3d')\n",
    "    for lab, color in zip(lab,color):\n",
    "        ax.scatter(z[cat==lab,0],z[cat==lab,1],z[cat==lab,2],c=color,s=10,label=lab)\n",
    "    plt.legend(loc=2)\n",
    "    plt.show()"
   ]
  },
  {
   "cell_type": "code",
   "execution_count": null,
   "metadata": {},
   "outputs": [],
   "source": [
    "y=rawdata.dot(matrix2D)\n",
    "lab2=(0,1,2)\n",
    "color2=('green','red','brown')\n",
    "with plt.style.context('seaborn-whitegrid'):\n",
    "    plt.figure(figsize=(6,4))\n",
    "    for lab2, color2, in zip(lab2,color2):\n",
    "        plt.scatter(y[cat==lab2,0],y[cat==lab2,1],label=lab2,c=color2)\n",
    "    plt.xlabel('componente 1')\n",
    "    plt.ylabel('componente 2')\n",
    "    plt.legend(loc='lower center')\n",
    "    plt.tight_layout()\n",
    "    plt.show()"
   ]
  },
  {
   "cell_type": "code",
   "execution_count": null,
   "metadata": {},
   "outputs": [],
   "source": [
    "v=rawdata.dot(matrix1D)\n",
    "lab3=(0,1,2)\n",
    "color3=('green','red','brown')\n",
    "with plt.style.context('seaborn-whitegrid'):\n",
    "    plt.figure()\n",
    "    for lab3, color3, in zip(lab3,color3):\n",
    "        plt.scatter(v[cat==lab3,0],v[cat==lab3,1],label=lab3,c=color3,s=10)\n",
    "    plt.xlabel('componente 1')\n",
    "    plt.ylabel('componente 2')\n",
    "    plt.legend(loc='lower center')\n",
    "    plt.tight_layout()\n",
    "    plt.show()"
   ]
  },
  {
   "cell_type": "code",
   "execution_count": null,
   "metadata": {},
   "outputs": [],
   "source": [
    "k=2\n",
    "cleanDf=cleaner(dfClean,k)\n",
    "catClean=cleanDf.iloc[:,4].values\n",
    "cleanDf=cleanDf.drop(columns=4)\n",
    "cleanData=np.array(cleanDf)\n",
    "covCleanData = np.cov(cleanData.T)\n",
    "resultClean = la.eig(covCleanData)\n",
    "eugenVectorClean=resultClean[1]\n",
    "eugenValorsClean=resultClean[0].real\n",
    "eugenParesClean=[(np.abs(eugenValorsClean[i]),eugenVectorClean[:,i])for i in range(len(eugenValorsClean))]\n",
    "\n",
    "zerros=np.zeros((4,1))\n",
    "matrix1DClean=np.hstack((eugenParesClean[0][1].reshape(4,1),zerros.reshape(4,1)))\n",
    "\n",
    "vClean=cleanData.dot(matrix1DClean)\n",
    "lab4=(0,1,2)\n",
    "color4=('green','red','brown')\n",
    "with plt.style.context('seaborn-whitegrid'):\n",
    "    plt.figure(figsize=(6,4))\n",
    "    for lab4, color4, in zip(lab4,color4):\n",
    "        plt.scatter(vClean[catClean==lab4,0],vClean[catClean==lab4,1],label=lab4,c=color4,s=10)\n",
    "    plt.xlabel('componente 1')\n",
    "    plt.ylabel('componente 2')\n",
    "    plt.legend(loc='lower center')\n",
    "    plt.tight_layout()\n",
    "    plt.show()"
   ]
  }
 ]
}